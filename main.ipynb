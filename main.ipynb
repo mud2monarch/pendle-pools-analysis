{
 "cells": [
  {
   "cell_type": "markdown",
   "metadata": {},
   "source": [
    "## Load CEX data and clean up\n",
    "I have access to Binance price data from 2024-01-29 00:00:00.066000 UTC to 2024-02-09 23:59:59.532000 UTC. Binance has four PENDLE markets: PENDLEBTC, PENDLEUSDT, PENDLEFDUSD, and PENDLETUSD. PENDLEUSDT is the highest volume market by far, so I'll use price data from that market.\n",
    "\n",
    "I need to do the following work:\n",
    "1. **Pull PENDLEUSDT and USDTUSDC binance data.** I need PENDLE<>USDC Binance prices because the Uniswap pools are PENDLE<>USDC. \n",
    "2. **Use Polars to join data on second to produce PENDLEUSDC pricing with second-level granularity.** We use Google BQ, and I don't think I can join on second-level data in GoogleBQ. The plan is to join the data in Polars with second-level granularity."
   ]
  },
  {
   "cell_type": "code",
   "execution_count": null,
   "metadata": {
    "vscode": {
     "languageId": "plaintext"
    }
   },
   "outputs": [],
   "source": []
  }
 ],
 "metadata": {
  "language_info": {
   "name": "python"
  }
 },
 "nbformat": 4,
 "nbformat_minor": 2
}
