{
 "cells": [
  {
   "cell_type": "markdown",
   "metadata": {},
   "source": [
    "## Load CEX data and clean up\n",
    "I have access to Binance price data from 2024-01-29 00:00:00.066000 UTC to 2024-02-09 23:59:59.532000 UTC. Binance has four PENDLE markets: PENDLEBTC, PENDLEUSDT, PENDLEFDUSD, and PENDLETUSD. PENDLEUSDT is the highest volume market by far, so I'll use price data from that market.\n",
    "\n",
    "I need to do the following work:\n",
    "1. **Pull PENDLEUSDT and USDTUSDC binance data.** I need PENDLE<>USDC Binance prices because the Uniswap pools are PENDLE<>USDC. \n",
    "2. **Use Polars to join data on second to produce PENDLEUSDC pricing with second-level granularity.** We use Google BQ, and I don't think I can join on second-level data in GoogleBQ. The plan is to join the data in Polars with second-level granularity."
   ]
  },
  {
   "cell_type": "code",
   "execution_count": 3,
   "metadata": {},
   "outputs": [
    {
     "name": "stdout",
     "output_type": "stream",
     "text": [
      "Requirement already satisfied: polars in /Library/Frameworks/Python.framework/Versions/3.12/lib/python3.12/site-packages (0.20.7)\n",
      "\n",
      "\u001b[1m[\u001b[0m\u001b[34;49mnotice\u001b[0m\u001b[1;39;49m]\u001b[0m\u001b[39;49m A new release of pip is available: \u001b[0m\u001b[31;49m23.2.1\u001b[0m\u001b[39;49m -> \u001b[0m\u001b[32;49m24.0\u001b[0m\n",
      "\u001b[1m[\u001b[0m\u001b[34;49mnotice\u001b[0m\u001b[1;39;49m]\u001b[0m\u001b[39;49m To update, run: \u001b[0m\u001b[32;49mpython3.12 -m pip install --upgrade pip\u001b[0m\n",
      "Requirement already satisfied: seaborn in /Library/Frameworks/Python.framework/Versions/3.12/lib/python3.12/site-packages (0.13.2)\n",
      "Requirement already satisfied: numpy!=1.24.0,>=1.20 in /Library/Frameworks/Python.framework/Versions/3.12/lib/python3.12/site-packages (from seaborn) (1.26.4)\n",
      "Requirement already satisfied: pandas>=1.2 in /Library/Frameworks/Python.framework/Versions/3.12/lib/python3.12/site-packages (from seaborn) (2.2.0)\n",
      "Requirement already satisfied: matplotlib!=3.6.1,>=3.4 in /Library/Frameworks/Python.framework/Versions/3.12/lib/python3.12/site-packages (from seaborn) (3.8.2)\n",
      "Requirement already satisfied: contourpy>=1.0.1 in /Library/Frameworks/Python.framework/Versions/3.12/lib/python3.12/site-packages (from matplotlib!=3.6.1,>=3.4->seaborn) (1.2.0)\n",
      "Requirement already satisfied: cycler>=0.10 in /Library/Frameworks/Python.framework/Versions/3.12/lib/python3.12/site-packages (from matplotlib!=3.6.1,>=3.4->seaborn) (0.12.1)\n",
      "Requirement already satisfied: fonttools>=4.22.0 in /Library/Frameworks/Python.framework/Versions/3.12/lib/python3.12/site-packages (from matplotlib!=3.6.1,>=3.4->seaborn) (4.48.1)\n",
      "Requirement already satisfied: kiwisolver>=1.3.1 in /Library/Frameworks/Python.framework/Versions/3.12/lib/python3.12/site-packages (from matplotlib!=3.6.1,>=3.4->seaborn) (1.4.5)\n",
      "Requirement already satisfied: packaging>=20.0 in /Users/zach.wong/Library/Python/3.12/lib/python/site-packages (from matplotlib!=3.6.1,>=3.4->seaborn) (23.2)\n",
      "Requirement already satisfied: pillow>=8 in /Library/Frameworks/Python.framework/Versions/3.12/lib/python3.12/site-packages (from matplotlib!=3.6.1,>=3.4->seaborn) (10.2.0)\n",
      "Requirement already satisfied: pyparsing>=2.3.1 in /Library/Frameworks/Python.framework/Versions/3.12/lib/python3.12/site-packages (from matplotlib!=3.6.1,>=3.4->seaborn) (3.1.1)\n",
      "Requirement already satisfied: python-dateutil>=2.7 in /Users/zach.wong/Library/Python/3.12/lib/python/site-packages (from matplotlib!=3.6.1,>=3.4->seaborn) (2.8.2)\n",
      "Requirement already satisfied: pytz>=2020.1 in /Library/Frameworks/Python.framework/Versions/3.12/lib/python3.12/site-packages (from pandas>=1.2->seaborn) (2024.1)\n",
      "Requirement already satisfied: tzdata>=2022.7 in /Library/Frameworks/Python.framework/Versions/3.12/lib/python3.12/site-packages (from pandas>=1.2->seaborn) (2023.4)\n",
      "Requirement already satisfied: six>=1.5 in /Users/zach.wong/Library/Python/3.12/lib/python/site-packages (from python-dateutil>=2.7->matplotlib!=3.6.1,>=3.4->seaborn) (1.16.0)\n",
      "\n",
      "\u001b[1m[\u001b[0m\u001b[34;49mnotice\u001b[0m\u001b[1;39;49m]\u001b[0m\u001b[39;49m A new release of pip is available: \u001b[0m\u001b[31;49m23.2.1\u001b[0m\u001b[39;49m -> \u001b[0m\u001b[32;49m24.0\u001b[0m\n",
      "\u001b[1m[\u001b[0m\u001b[34;49mnotice\u001b[0m\u001b[1;39;49m]\u001b[0m\u001b[39;49m To update, run: \u001b[0m\u001b[32;49mpython3.12 -m pip install --upgrade pip\u001b[0m\n"
     ]
    }
   ],
   "source": [
    "# dependencies\n",
    "\n",
    "!pip3 install polars\n",
    "!pip3 install seaborn\n",
    "import polars as pl\n",
    "import seaborn as sns"
   ]
  },
  {
   "cell_type": "code",
   "execution_count": 18,
   "metadata": {},
   "outputs": [],
   "source": [
    "# see CEX_data_pull.sql. Looks like 4.2m rows and 180 MB.\n",
    "# I've never worked with a dataset this large before, so pretty exciting.\n",
    "# Still, not too big as I understand so should be approachable.\n",
    "\n",
    "df = pl.read_csv('data/2024.2.10_CEX_data.csv')"
   ]
  },
  {
   "cell_type": "code",
   "execution_count": 19,
   "metadata": {},
   "outputs": [],
   "source": [
    "# convert string to timestamp\n",
    "df = df.with_columns(\n",
    "    pl.coalesce(\n",
    "        pl.col('timestamp')\n",
    "            .str.strptime(pl.Datetime, '%Y-%m-%d %H:%M:%S%.f UTC', strict=False), # strict = False writes to null\n",
    "        # need to coalesce two `strptime` to handle errors where a whole second didn't have a decimal at the end.\n",
    "        pl.col('timestamp')\n",
    "            .str.strptime(pl.Datetime, '%Y-%m-%d %H:%M:%S UTC', strict=False)\n",
    "    )\n",
    ")\n",
    "# truncate timestamp to seconds\n",
    "df = df.with_columns\n",
    "    (\n",
    "        pl.col(\"timestamp\")\n",
    "        .dt.truncate(\"s\")\n",
    "        .alias(\"timestamp\")\n",
    "    )\n",
    "\n",
    "\n",
    "# df = (\n",
    "#         df.group_by(\"timestamp\", \"symbol\")\n",
    "#         .agg(pl.col(\"price\").mean())\n",
    "# )"
   ]
  },
  {
   "cell_type": "code",
   "execution_count": 21,
   "metadata": {},
   "outputs": [
    {
     "data": {
      "text/html": [
       "<div><style>\n",
       ".dataframe > thead > tr,\n",
       ".dataframe > tbody > tr {\n",
       "  text-align: right;\n",
       "  white-space: pre-wrap;\n",
       "}\n",
       "</style>\n",
       "<small>shape: (20, 3)</small><table border=\"1\" class=\"dataframe\"><thead><tr><th>timestamp</th><th>symbol</th><th>price</th></tr><tr><td>datetime[μs]</td><td>str</td><td>f64</td></tr></thead><tbody><tr><td>2024-02-09 23:59:59.532</td><td>&quot;PENDLEUSDT&quot;</td><td>3.1709</td></tr><tr><td>2024-02-09 23:59:59.532</td><td>&quot;PENDLEUSDT&quot;</td><td>3.1699</td></tr><tr><td>2024-02-09 23:59:59.532</td><td>&quot;PENDLEUSDT&quot;</td><td>3.1724</td></tr><tr><td>2024-02-09 23:59:59.532</td><td>&quot;PENDLEUSDT&quot;</td><td>3.1718</td></tr><tr><td>2024-02-09 23:59:59.532</td><td>&quot;PENDLEUSDT&quot;</td><td>3.1697</td></tr><tr><td>2024-02-09 23:59:59.532</td><td>&quot;PENDLEUSDT&quot;</td><td>3.171</td></tr><tr><td>2024-02-09 23:59:59.532</td><td>&quot;PENDLEUSDT&quot;</td><td>3.1724</td></tr><tr><td>2024-02-09 23:59:59.532</td><td>&quot;PENDLEUSDT&quot;</td><td>3.1709</td></tr><tr><td>2024-02-09 23:59:59.532</td><td>&quot;PENDLEUSDT&quot;</td><td>3.1722</td></tr><tr><td>2024-02-09 23:59:59.532</td><td>&quot;PENDLEUSDT&quot;</td><td>3.1713</td></tr><tr><td>2024-02-09 23:59:59.532</td><td>&quot;PENDLEUSDT&quot;</td><td>3.1715</td></tr><tr><td>2024-02-09 23:59:59.532</td><td>&quot;PENDLEUSDT&quot;</td><td>3.1697</td></tr><tr><td>2024-02-09 23:59:59.532</td><td>&quot;PENDLEUSDT&quot;</td><td>3.1703</td></tr><tr><td>2024-02-09 23:59:59.532</td><td>&quot;PENDLEUSDT&quot;</td><td>3.1703</td></tr><tr><td>2024-02-09 23:59:59.532</td><td>&quot;PENDLEUSDT&quot;</td><td>3.1712</td></tr><tr><td>2024-02-09 23:59:59.532</td><td>&quot;PENDLEUSDT&quot;</td><td>3.1702</td></tr><tr><td>2024-02-09 23:59:59.532</td><td>&quot;PENDLEUSDT&quot;</td><td>3.1699</td></tr><tr><td>2024-02-09 23:59:59.532</td><td>&quot;PENDLEUSDT&quot;</td><td>3.1705</td></tr><tr><td>2024-02-09 23:59:59.532</td><td>&quot;PENDLEUSDT&quot;</td><td>3.1724</td></tr><tr><td>2024-02-09 23:59:59.532</td><td>&quot;PENDLEUSDT&quot;</td><td>3.1707</td></tr></tbody></table></div>"
      ],
      "text/plain": [
       "shape: (20, 3)\n",
       "┌─────────────────────────┬────────────┬────────┐\n",
       "│ timestamp               ┆ symbol     ┆ price  │\n",
       "│ ---                     ┆ ---        ┆ ---    │\n",
       "│ datetime[μs]            ┆ str        ┆ f64    │\n",
       "╞═════════════════════════╪════════════╪════════╡\n",
       "│ 2024-02-09 23:59:59.532 ┆ PENDLEUSDT ┆ 3.1709 │\n",
       "│ 2024-02-09 23:59:59.532 ┆ PENDLEUSDT ┆ 3.1699 │\n",
       "│ 2024-02-09 23:59:59.532 ┆ PENDLEUSDT ┆ 3.1724 │\n",
       "│ 2024-02-09 23:59:59.532 ┆ PENDLEUSDT ┆ 3.1718 │\n",
       "│ 2024-02-09 23:59:59.532 ┆ PENDLEUSDT ┆ 3.1697 │\n",
       "│ …                       ┆ …          ┆ …      │\n",
       "│ 2024-02-09 23:59:59.532 ┆ PENDLEUSDT ┆ 3.1702 │\n",
       "│ 2024-02-09 23:59:59.532 ┆ PENDLEUSDT ┆ 3.1699 │\n",
       "│ 2024-02-09 23:59:59.532 ┆ PENDLEUSDT ┆ 3.1705 │\n",
       "│ 2024-02-09 23:59:59.532 ┆ PENDLEUSDT ┆ 3.1724 │\n",
       "│ 2024-02-09 23:59:59.532 ┆ PENDLEUSDT ┆ 3.1707 │\n",
       "└─────────────────────────┴────────────┴────────┘"
      ]
     },
     "execution_count": 21,
     "metadata": {},
     "output_type": "execute_result"
    }
   ],
   "source": [
    "df.head(20)"
   ]
  },
  {
   "cell_type": "code",
   "execution_count": null,
   "metadata": {},
   "outputs": [],
   "source": [
    "# # production polars\n",
    "# # building my string for lazy api\n",
    "\n",
    "# q = (\n",
    "#     pl.scan_csv('data/2024.2.10_CEX_data.csv')\n",
    "#     .filter(pl.col(\"symbol\")=\"PENDLEUSDT\"))\n",
    "# )\n",
    "\n",
    "# df_pendleusdc = q.collect()\n",
    "# df_pendleusdc.head()"
   ]
  }
 ],
 "metadata": {
  "kernelspec": {
   "display_name": "Python 3",
   "language": "python",
   "name": "python3"
  },
  "language_info": {
   "codemirror_mode": {
    "name": "ipython",
    "version": 3
   },
   "file_extension": ".py",
   "mimetype": "text/x-python",
   "name": "python",
   "nbconvert_exporter": "python",
   "pygments_lexer": "ipython3",
   "version": "3.12.0"
  }
 },
 "nbformat": 4,
 "nbformat_minor": 2
}
