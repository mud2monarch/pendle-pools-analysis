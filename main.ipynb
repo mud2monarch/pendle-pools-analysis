{
 "cells": [
  {
   "cell_type": "markdown",
   "metadata": {},
   "source": [
    "### Load CEX data and clean up\n",
    "I have access to Binance price data from 2024-01-29 00:00:00.066000 UTC. Will use PENDLEUSDT and WETHUSDT pairs to derive PENDLE-ETH price. Think it's fine to use Binance ETH as essentially the same as WETH because it's more about the relative price change that is important for this analysis.\n",
    "\n",
    "I need to do the following work:\n",
    "1. **Pull PENDLEUSDT and ETHUSDT binance data.**\n",
    "2. **Use Polars to join data on second to produce PENDLEWETH pricing with second-level granularity.** We use Google BQ, and I don't think I can join on second-level data in GoogleBQ. The plan is to join the data in Polars with second-level granularity.\n",
    "\n",
    "Please note that I'm developing in a haphazard and suboptimal way right now then i'll go back and clean everything up (maybe)"
   ]
  },
  {
   "cell_type": "code",
   "execution_count": 41,
   "metadata": {},
   "outputs": [],
   "source": [
    "# dependencies\n",
    "\n",
    "# !pip3 install polars\n",
    "# !pip3 install seaborn\n",
    "import polars as pl\n",
    "import seaborn as sns"
   ]
  },
  {
   "cell_type": "code",
   "execution_count": 42,
   "metadata": {},
   "outputs": [],
   "source": [
    "# see CEX_data_pull.sql. Looks like 8m rows and 400 MB.\n",
    "# I've never worked with a dataset this large before, so pretty exciting.\n",
    "# Still, not too big as I understand so should be approachable.\n",
    "\n",
    "nance = pl.read_csv('data/2024.2.19 PENDLEUSDT WETHUSDT.csv')"
   ]
  },
  {
   "cell_type": "code",
   "execution_count": 43,
   "metadata": {},
   "outputs": [
    {
     "data": {
      "text/html": [
       "<div><style>\n",
       ".dataframe > thead > tr,\n",
       ".dataframe > tbody > tr {\n",
       "  text-align: right;\n",
       "  white-space: pre-wrap;\n",
       "}\n",
       "</style>\n",
       "<small>shape: (5, 3)</small><table border=\"1\" class=\"dataframe\"><thead><tr><th>timestamp</th><th>ETHUSDT</th><th>PENDLEUSDT</th></tr><tr><td>datetime[μs]</td><td>f64</td><td>f64</td></tr></thead><tbody><tr><td>2024-02-04 21:36:59</td><td>2308.10375</td><td>3.1367</td></tr><tr><td>2024-02-04 21:36:58</td><td>2308.1</td><td>null</td></tr><tr><td>2024-02-04 21:36:57</td><td>2308.1</td><td>null</td></tr><tr><td>2024-02-04 21:36:56</td><td>2308.11</td><td>null</td></tr><tr><td>2024-02-04 21:36:55</td><td>2308.11</td><td>3.136738</td></tr></tbody></table></div>"
      ],
      "text/plain": [
       "shape: (5, 3)\n",
       "┌─────────────────────┬────────────┬────────────┐\n",
       "│ timestamp           ┆ ETHUSDT    ┆ PENDLEUSDT │\n",
       "│ ---                 ┆ ---        ┆ ---        │\n",
       "│ datetime[μs]        ┆ f64        ┆ f64        │\n",
       "╞═════════════════════╪════════════╪════════════╡\n",
       "│ 2024-02-04 21:36:59 ┆ 2308.10375 ┆ 3.1367     │\n",
       "│ 2024-02-04 21:36:58 ┆ 2308.1     ┆ null       │\n",
       "│ 2024-02-04 21:36:57 ┆ 2308.1     ┆ null       │\n",
       "│ 2024-02-04 21:36:56 ┆ 2308.11    ┆ null       │\n",
       "│ 2024-02-04 21:36:55 ┆ 2308.11    ┆ 3.136738   │\n",
       "└─────────────────────┴────────────┴────────────┘"
      ]
     },
     "execution_count": 43,
     "metadata": {},
     "output_type": "execute_result"
    }
   ],
   "source": [
    "# convert string to timestamp\n",
    "nance = nance.with_columns(\n",
    "    pl.coalesce(\n",
    "        pl.col('timestamp')\n",
    "            # note all times UTC\n",
    "            .str.strptime(pl.Datetime, '%Y-%m-%d %H:%M:%S%.f UTC', strict=False), # strict = False writes to null\n",
    "        # need to coalesce two `strptime` to handle errors where a whole second didn't have a decimal at the end.\n",
    "        pl.col('timestamp')\n",
    "            .str.strptime(pl.Datetime, '%Y-%m-%d %H:%M:%S UTC', strict=False)\n",
    "    )\n",
    ")\n",
    "# truncate timestamp to seconds\n",
    "nance = nance.with_columns(\n",
    "    pl.col(\"timestamp\")\n",
    "    .dt.truncate(\"1s\")\n",
    "    # .alias(\"timestamp\")\n",
    ")\n",
    "\n",
    "# pivot nance table into columns per token pair\n",
    "nance = nance.pivot(\n",
    "    values='price',\n",
    "    index='timestamp',\n",
    "    columns='symbol',\n",
    "    aggregate_function='mean' \n",
    ")\n",
    "\n",
    "nance.head()"
   ]
  },
  {
   "cell_type": "code",
   "execution_count": 44,
   "metadata": {},
   "outputs": [
    {
     "data": {
      "text/plain": [
       "(1814401, 1)"
      ]
     },
     "execution_count": 44,
     "metadata": {},
     "output_type": "execute_result"
    }
   ],
   "source": [
    "# @Dev TODO is there a way to do this without creating a new dataframe?\n",
    "\n",
    "# create a polars datetime range from min to max\n",
    "dates = pl.datetime_range(\n",
    "            nance.select(pl.min('timestamp')).item(),\n",
    "            nance.select(pl.max('timestamp')).item(),\n",
    "            interval = '1s',\n",
    "            closed = 'both',\n",
    "            # eager evaluate it into a series\n",
    "            eager = True\n",
    "        )   \n",
    "\n",
    "# create a new df with a continuous timeseries\n",
    "# this will be my master df\n",
    "df=pl.DataFrame({'timestamp':dates})\n",
    "df.shape"
   ]
  },
  {
   "cell_type": "code",
   "execution_count": 45,
   "metadata": {},
   "outputs": [
    {
     "data": {
      "text/plain": [
       "(1814401, 3)"
      ]
     },
     "execution_count": 45,
     "metadata": {},
     "output_type": "execute_result"
    }
   ],
   "source": [
    "# join nance data into df on timestamp\n",
    "df = df.join(\n",
    "    nance,\n",
    "    left_on='timestamp',\n",
    "    right_on='timestamp',\n",
    "    how = 'left'\n",
    ")"
   ]
  },
  {
   "cell_type": "code",
   "execution_count": 48,
   "metadata": {},
   "outputs": [
    {
     "data": {
      "text/html": [
       "<div><style>\n",
       ".dataframe > thead > tr,\n",
       ".dataframe > tbody > tr {\n",
       "  text-align: right;\n",
       "  white-space: pre-wrap;\n",
       "}\n",
       "</style>\n",
       "<small>shape: (20, 4)</small><table border=\"1\" class=\"dataframe\"><thead><tr><th>timestamp</th><th>ETHUSDT</th><th>PENDLEUSDT</th><th>nance-PENDLE-ETH</th></tr><tr><td>datetime[μs]</td><td>f64</td><td>f64</td><td>f64</td></tr></thead><tbody><tr><td>2024-01-28 23:59:59</td><td>2256.9</td><td>null</td><td>null</td></tr><tr><td>2024-01-29 00:00:00</td><td>2256.903922</td><td>2.2398</td><td>0.000992</td></tr><tr><td>2024-01-29 00:00:01</td><td>2256.905</td><td>null</td><td>0.000992</td></tr><tr><td>2024-01-29 00:00:02</td><td>2256.900667</td><td>null</td><td>0.000992</td></tr><tr><td>2024-01-29 00:00:03</td><td>2257.187832</td><td>2.240142</td><td>0.000992</td></tr><tr><td>2024-01-29 00:00:04</td><td>2257.78</td><td>2.2412</td><td>0.000993</td></tr><tr><td>2024-01-29 00:00:05</td><td>2257.782</td><td>2.24085</td><td>0.000993</td></tr><tr><td>2024-01-29 00:00:06</td><td>2257.316185</td><td>2.2409</td><td>0.000993</td></tr><tr><td>2024-01-29 00:00:07</td><td>2256.457917</td><td>null</td><td>0.000993</td></tr><tr><td>2024-01-29 00:00:08</td><td>2256.323333</td><td>null</td><td>0.000993</td></tr><tr><td>2024-01-29 00:00:09</td><td>2256.323333</td><td>null</td><td>0.000993</td></tr><tr><td>2024-01-29 00:00:10</td><td>2256.32</td><td>null</td><td>0.000993</td></tr><tr><td>2024-01-29 00:00:11</td><td>2256.33</td><td>null</td><td>0.000993</td></tr><tr><td>2024-01-29 00:00:12</td><td>2256.32</td><td>2.239733</td><td>0.000993</td></tr><tr><td>2024-01-29 00:00:13</td><td>2256.32</td><td>2.2403125</td><td>0.000993</td></tr><tr><td>2024-01-29 00:00:14</td><td>2256.325714</td><td>null</td><td>0.000993</td></tr><tr><td>2024-01-29 00:00:15</td><td>2256.326667</td><td>2.2399</td><td>0.000993</td></tr><tr><td>2024-01-29 00:00:16</td><td>2256.33</td><td>2.2399</td><td>0.000993</td></tr><tr><td>2024-01-29 00:00:17</td><td>2256.32</td><td>null</td><td>0.000993</td></tr><tr><td>2024-01-29 00:00:18</td><td>2256.325</td><td>null</td><td>0.000993</td></tr></tbody></table></div>"
      ],
      "text/plain": [
       "shape: (20, 4)\n",
       "┌─────────────────────┬─────────────┬────────────┬──────────────────┐\n",
       "│ timestamp           ┆ ETHUSDT     ┆ PENDLEUSDT ┆ nance-PENDLE-ETH │\n",
       "│ ---                 ┆ ---         ┆ ---        ┆ ---              │\n",
       "│ datetime[μs]        ┆ f64         ┆ f64        ┆ f64              │\n",
       "╞═════════════════════╪═════════════╪════════════╪══════════════════╡\n",
       "│ 2024-01-28 23:59:59 ┆ 2256.9      ┆ null       ┆ null             │\n",
       "│ 2024-01-29 00:00:00 ┆ 2256.903922 ┆ 2.2398     ┆ 0.000992         │\n",
       "│ 2024-01-29 00:00:01 ┆ 2256.905    ┆ null       ┆ 0.000992         │\n",
       "│ 2024-01-29 00:00:02 ┆ 2256.900667 ┆ null       ┆ 0.000992         │\n",
       "│ 2024-01-29 00:00:03 ┆ 2257.187832 ┆ 2.240142   ┆ 0.000992         │\n",
       "│ …                   ┆ …           ┆ …          ┆ …                │\n",
       "│ 2024-01-29 00:00:14 ┆ 2256.325714 ┆ null       ┆ 0.000993         │\n",
       "│ 2024-01-29 00:00:15 ┆ 2256.326667 ┆ 2.2399     ┆ 0.000993         │\n",
       "│ 2024-01-29 00:00:16 ┆ 2256.33     ┆ 2.2399     ┆ 0.000993         │\n",
       "│ 2024-01-29 00:00:17 ┆ 2256.32     ┆ null       ┆ 0.000993         │\n",
       "│ 2024-01-29 00:00:18 ┆ 2256.325    ┆ null       ┆ 0.000993         │\n",
       "└─────────────────────┴─────────────┴────────────┴──────────────────┘"
      ]
     },
     "execution_count": 48,
     "metadata": {},
     "output_type": "execute_result"
    }
   ],
   "source": [
    "# generate new column for PENDLE-WETH price\n",
    "df = df.with_columns((df[\"PENDLEUSDT\"] / df[\"ETHUSDT\"]).alias(\"nance-PENDLE-ETH\"))\n",
    "df = df.with_columns(pl.col('nance-PENDLE-ETH').fill_null(strategy=\"forward\"))\n",
    "df.head(10)"
   ]
  },
  {
   "cell_type": "code",
   "execution_count": null,
   "metadata": {},
   "outputs": [],
   "source": []
  }
 ],
 "metadata": {
  "kernelspec": {
   "display_name": "Python 3",
   "language": "python",
   "name": "python3"
  },
  "language_info": {
   "codemirror_mode": {
    "name": "ipython",
    "version": 3
   },
   "file_extension": ".py",
   "mimetype": "text/x-python",
   "name": "python",
   "nbconvert_exporter": "python",
   "pygments_lexer": "ipython3",
   "version": "3.12.0"
  }
 },
 "nbformat": 4,
 "nbformat_minor": 2
}
