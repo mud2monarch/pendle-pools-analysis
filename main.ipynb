{
 "cells": [
  {
   "cell_type": "markdown",
   "metadata": {},
   "source": [
    "## Load CEX data and clean up\n",
    "I have access to Binance price data from 2024-01-29 00:00:00.066000 UTC to 2024-02-09 23:59:59.532000 UTC. Binance has four PENDLE markets: PENDLEBTC, PENDLEUSDT, PENDLEFDUSD, and PENDLETUSD. PENDLEUSDT is the highest volume market by far, so I'll use price data from that market.\n",
    "\n",
    "I need to do the following work:\n",
    "1. **Pull PENDLEUSDT and USDTUSDC binance data.** I need PENDLE<>USDC Binance prices because the Uniswap pools are PENDLE<>USDC. \n",
    "2. **Use Polars to join data on second to produce PENDLEUSDC pricing with second-level granularity.** We use Google BQ, and I don't think I can join on second-level data in GoogleBQ. The plan is to join the data in Polars with second-level granularity.\n",
    "\n",
    "Please note that I'm developing in a haphazard and suboptimal way as of 2/11/24 then i'll go back and clean everything up"
   ]
  },
  {
   "cell_type": "code",
   "execution_count": 2,
   "metadata": {},
   "outputs": [
    {
     "name": "stdout",
     "output_type": "stream",
     "text": [
      "Requirement already satisfied: polars in /Library/Frameworks/Python.framework/Versions/3.12/lib/python3.12/site-packages (0.20.7)\n",
      "\n",
      "\u001b[1m[\u001b[0m\u001b[34;49mnotice\u001b[0m\u001b[1;39;49m]\u001b[0m\u001b[39;49m A new release of pip is available: \u001b[0m\u001b[31;49m23.2.1\u001b[0m\u001b[39;49m -> \u001b[0m\u001b[32;49m24.0\u001b[0m\n",
      "\u001b[1m[\u001b[0m\u001b[34;49mnotice\u001b[0m\u001b[1;39;49m]\u001b[0m\u001b[39;49m To update, run: \u001b[0m\u001b[32;49mpython3.12 -m pip install --upgrade pip\u001b[0m\n",
      "Requirement already satisfied: seaborn in /Library/Frameworks/Python.framework/Versions/3.12/lib/python3.12/site-packages (0.13.2)\n",
      "Requirement already satisfied: numpy!=1.24.0,>=1.20 in /Library/Frameworks/Python.framework/Versions/3.12/lib/python3.12/site-packages (from seaborn) (1.26.4)\n",
      "Requirement already satisfied: pandas>=1.2 in /Library/Frameworks/Python.framework/Versions/3.12/lib/python3.12/site-packages (from seaborn) (2.2.0)\n",
      "Requirement already satisfied: matplotlib!=3.6.1,>=3.4 in /Library/Frameworks/Python.framework/Versions/3.12/lib/python3.12/site-packages (from seaborn) (3.8.2)\n",
      "Requirement already satisfied: contourpy>=1.0.1 in /Library/Frameworks/Python.framework/Versions/3.12/lib/python3.12/site-packages (from matplotlib!=3.6.1,>=3.4->seaborn) (1.2.0)\n",
      "Requirement already satisfied: cycler>=0.10 in /Library/Frameworks/Python.framework/Versions/3.12/lib/python3.12/site-packages (from matplotlib!=3.6.1,>=3.4->seaborn) (0.12.1)\n",
      "Requirement already satisfied: fonttools>=4.22.0 in /Library/Frameworks/Python.framework/Versions/3.12/lib/python3.12/site-packages (from matplotlib!=3.6.1,>=3.4->seaborn) (4.48.1)\n",
      "Requirement already satisfied: kiwisolver>=1.3.1 in /Library/Frameworks/Python.framework/Versions/3.12/lib/python3.12/site-packages (from matplotlib!=3.6.1,>=3.4->seaborn) (1.4.5)\n",
      "Requirement already satisfied: packaging>=20.0 in /Users/zach.wong/Library/Python/3.12/lib/python/site-packages (from matplotlib!=3.6.1,>=3.4->seaborn) (23.2)\n",
      "Requirement already satisfied: pillow>=8 in /Library/Frameworks/Python.framework/Versions/3.12/lib/python3.12/site-packages (from matplotlib!=3.6.1,>=3.4->seaborn) (10.2.0)\n",
      "Requirement already satisfied: pyparsing>=2.3.1 in /Library/Frameworks/Python.framework/Versions/3.12/lib/python3.12/site-packages (from matplotlib!=3.6.1,>=3.4->seaborn) (3.1.1)\n",
      "Requirement already satisfied: python-dateutil>=2.7 in /Users/zach.wong/Library/Python/3.12/lib/python/site-packages (from matplotlib!=3.6.1,>=3.4->seaborn) (2.8.2)\n",
      "Requirement already satisfied: pytz>=2020.1 in /Library/Frameworks/Python.framework/Versions/3.12/lib/python3.12/site-packages (from pandas>=1.2->seaborn) (2024.1)\n",
      "Requirement already satisfied: tzdata>=2022.7 in /Library/Frameworks/Python.framework/Versions/3.12/lib/python3.12/site-packages (from pandas>=1.2->seaborn) (2023.4)\n",
      "Requirement already satisfied: six>=1.5 in /Users/zach.wong/Library/Python/3.12/lib/python/site-packages (from python-dateutil>=2.7->matplotlib!=3.6.1,>=3.4->seaborn) (1.16.0)\n",
      "\n",
      "\u001b[1m[\u001b[0m\u001b[34;49mnotice\u001b[0m\u001b[1;39;49m]\u001b[0m\u001b[39;49m A new release of pip is available: \u001b[0m\u001b[31;49m23.2.1\u001b[0m\u001b[39;49m -> \u001b[0m\u001b[32;49m24.0\u001b[0m\n",
      "\u001b[1m[\u001b[0m\u001b[34;49mnotice\u001b[0m\u001b[1;39;49m]\u001b[0m\u001b[39;49m To update, run: \u001b[0m\u001b[32;49mpython3.12 -m pip install --upgrade pip\u001b[0m\n"
     ]
    }
   ],
   "source": [
    "# dependencies\n",
    "\n",
    "!pip3 install polars\n",
    "!pip3 install seaborn\n",
    "import polars as pl\n",
    "import seaborn as sns"
   ]
  },
  {
   "cell_type": "code",
   "execution_count": 3,
   "metadata": {},
   "outputs": [],
   "source": [
    "# see CEX_data_pull.sql. Looks like 4.2m rows and 180 MB.\n",
    "# I've never worked with a dataset this large before, so pretty exciting.\n",
    "# Still, not too big as I understand so should be approachable.\n",
    "\n",
    "df = pl.read_csv('data/2024.2.10_CEX_data.csv')"
   ]
  },
  {
   "cell_type": "code",
   "execution_count": 4,
   "metadata": {},
   "outputs": [],
   "source": [
    "# convert string to timestamp\n",
    "df = df.with_columns(\n",
    "    pl.coalesce(\n",
    "        pl.col('timestamp')\n",
    "            .str.strptime(pl.Datetime, '%Y-%m-%d %H:%M:%S%.f UTC', strict=False), # strict = False writes to null\n",
    "        # need to coalesce two `strptime` to handle errors where a whole second didn't have a decimal at the end.\n",
    "        pl.col('timestamp')\n",
    "            .str.strptime(pl.Datetime, '%Y-%m-%d %H:%M:%S UTC', strict=False)\n",
    "    )\n",
    ")\n",
    "# truncate timestamp to seconds\n",
    "df = df.with_columns(\n",
    "    pl.col(\"timestamp\")\n",
    "    .dt.truncate(\"1s\")\n",
    "    .alias(\"timestamp\")\n",
    ")"
   ]
  },
  {
   "cell_type": "code",
   "execution_count": 5,
   "metadata": {},
   "outputs": [],
   "source": [
    "# calculate mean price per second for each token pair\n",
    "\n",
    "df_mean = (\n",
    "    df.group_by(\"symbol\", \"timestamp\")\n",
    "    .agg(pl.col(\"price\").mean())\n",
    ")\n"
   ]
  },
  {
   "cell_type": "code",
   "execution_count": 6,
   "metadata": {},
   "outputs": [
    {
     "data": {
      "text/html": [
       "<div><style>\n",
       ".dataframe > thead > tr,\n",
       ".dataframe > tbody > tr {\n",
       "  text-align: right;\n",
       "  white-space: pre-wrap;\n",
       "}\n",
       "</style>\n",
       "<small>shape: (5, 3)</small><table border=\"1\" class=\"dataframe\"><thead><tr><th>symbol</th><th>timestamp</th><th>price</th></tr><tr><td>str</td><td>datetime[μs]</td><td>f64</td></tr></thead><tbody><tr><td>&quot;PENDLEUSDT&quot;</td><td>2024-02-09 23:59:59</td><td>3.170942</td></tr><tr><td>&quot;USDCUSDT&quot;</td><td>2024-02-09 23:59:58</td><td>0.9995</td></tr><tr><td>&quot;USDCUSDT&quot;</td><td>2024-02-09 23:59:56</td><td>0.99955</td></tr><tr><td>&quot;USDCUSDT&quot;</td><td>2024-02-09 23:59:52</td><td>0.9995</td></tr><tr><td>&quot;PENDLEUSDT&quot;</td><td>2024-02-09 23:59:51</td><td>3.1687</td></tr></tbody></table></div>"
      ],
      "text/plain": [
       "shape: (5, 3)\n",
       "┌────────────┬─────────────────────┬──────────┐\n",
       "│ symbol     ┆ timestamp           ┆ price    │\n",
       "│ ---        ┆ ---                 ┆ ---      │\n",
       "│ str        ┆ datetime[μs]        ┆ f64      │\n",
       "╞════════════╪═════════════════════╪══════════╡\n",
       "│ PENDLEUSDT ┆ 2024-02-09 23:59:59 ┆ 3.170942 │\n",
       "│ USDCUSDT   ┆ 2024-02-09 23:59:58 ┆ 0.9995   │\n",
       "│ USDCUSDT   ┆ 2024-02-09 23:59:56 ┆ 0.99955  │\n",
       "│ USDCUSDT   ┆ 2024-02-09 23:59:52 ┆ 0.9995   │\n",
       "│ PENDLEUSDT ┆ 2024-02-09 23:59:51 ┆ 3.1687   │\n",
       "└────────────┴─────────────────────┴──────────┘"
      ]
     },
     "execution_count": 6,
     "metadata": {},
     "output_type": "execute_result"
    }
   ],
   "source": [
    "df_mean.head()"
   ]
  },
  {
   "cell_type": "code",
   "execution_count": 7,
   "metadata": {},
   "outputs": [
    {
     "data": {
      "text/html": [
       "<div><style>\n",
       ".dataframe > thead > tr,\n",
       ".dataframe > tbody > tr {\n",
       "  text-align: right;\n",
       "  white-space: pre-wrap;\n",
       "}\n",
       "</style>\n",
       "<small>shape: (10,)</small><table border=\"1\" class=\"dataframe\"><thead><tr><th>literal</th></tr><tr><td>datetime[μs]</td></tr></thead><tbody><tr><td>2024-01-29 00:00:00</td></tr><tr><td>2024-01-29 00:00:01</td></tr><tr><td>2024-01-29 00:00:02</td></tr><tr><td>2024-01-29 00:00:03</td></tr><tr><td>2024-01-29 00:00:04</td></tr><tr><td>2024-01-29 00:00:05</td></tr><tr><td>2024-01-29 00:00:06</td></tr><tr><td>2024-01-29 00:00:07</td></tr><tr><td>2024-01-29 00:00:08</td></tr><tr><td>2024-01-29 00:00:09</td></tr></tbody></table></div>"
      ],
      "text/plain": [
       "shape: (10,)\n",
       "Series: 'literal' [datetime[μs]]\n",
       "[\n",
       "\t2024-01-29 00:00:00\n",
       "\t2024-01-29 00:00:01\n",
       "\t2024-01-29 00:00:02\n",
       "\t2024-01-29 00:00:03\n",
       "\t2024-01-29 00:00:04\n",
       "\t2024-01-29 00:00:05\n",
       "\t2024-01-29 00:00:06\n",
       "\t2024-01-29 00:00:07\n",
       "\t2024-01-29 00:00:08\n",
       "\t2024-01-29 00:00:09\n",
       "]"
      ]
     },
     "execution_count": 7,
     "metadata": {},
     "output_type": "execute_result"
    }
   ],
   "source": [
    "# identify the minimum and maximum times in my dataset\n",
    "min_time = df_mean.select(pl.min('timestamp')).item()\n",
    "max_time = df_mean.select(pl.max('timestamp')).item()\n",
    "\n",
    "# create a polars datetime range from min to max\n",
    "dates = pl.datetime_range(\n",
    "            min_time,\n",
    "            max_time,\n",
    "            interval = '1s',\n",
    "            closed = 'both',\n",
    "            # eager evaluate it into a series\n",
    "            eager = True\n",
    "        )   \n",
    "\n",
    "# create a new df with a continuous timeseries\n",
    "df_full=dates\n",
    "df_full.head()"
   ]
  },
  {
   "cell_type": "code",
   "execution_count": 11,
   "metadata": {},
   "outputs": [],
   "source": [
    "# @dev TODO as of 10 AM Feb 12, 2024\n",
    "# last cell above was generating a second-level timeseries from min-time to max-time for the Binance price data that we have.\n",
    "# next step I was imagining was to join the PENDLEUSDT and USDCUSDT prices into the df_full timeseries.\n",
    "# from there, can backfill prices where there are null values - will then have full price-time data for both pairs and can compute a PENDLE-USDC price for the period. \n",
    "# that will give us full PENDLE-USDC CEX data to which we can compare the Uni v3 data."
   ]
  }
 ],
 "metadata": {
  "kernelspec": {
   "display_name": "Python 3",
   "language": "python",
   "name": "python3"
  },
  "language_info": {
   "codemirror_mode": {
    "name": "ipython",
    "version": 3
   },
   "file_extension": ".py",
   "mimetype": "text/x-python",
   "name": "python",
   "nbconvert_exporter": "python",
   "pygments_lexer": "ipython3",
   "version": "3.12.0"
  }
 },
 "nbformat": 4,
 "nbformat_minor": 2
}
