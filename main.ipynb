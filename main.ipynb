{
 "cells": [
  {
   "cell_type": "markdown",
   "metadata": {},
   "source": [
    "### Load CEX data and clean up\n",
    "I have access to Binance price data from 2024-01-29 00:00:00.066000 UTC. Will use PENDLEUSDT and WETHUSDT pairs to derive PENDLE-ETH price. Think it's fine to use Binance ETH as essentially the same as WETH because it's more about the relative price change that is important for this analysis.\n",
    "\n",
    "I need to do the following work:\n",
    "1. **Pull PENDLEUSDT and ETHUSDT binance data.**\n",
    "2. **Use Polars to join data on second to produce PENDLEWETH pricing with second-level granularity.** We use Google BQ, and I don't think I can join on second-level data in GoogleBQ. The plan is to join the data in Polars with second-level granularity.\n",
    "\n",
    "Please note that I'm developing in a haphazard and suboptimal way right now then i'll go back and clean everything up (maybe)"
   ]
  },
  {
   "cell_type": "code",
   "execution_count": 79,
   "metadata": {},
   "outputs": [],
   "source": [
    "# dependencies\n",
    "\n",
    "# !pip3 install polars\n",
    "# !pip3 install seaborn\n",
    "import polars as pl\n",
    "import seaborn as sns"
   ]
  },
  {
   "cell_type": "code",
   "execution_count": 80,
   "metadata": {},
   "outputs": [],
   "source": [
    "# see CEX_data_pull.sql. Looks like 8m rows and 400 MB.\n",
    "# I've never worked with a dataset this large before, so pretty exciting.\n",
    "# Still, not too big as I understand so should be approachable.\n",
    "\n",
    "nance = pl.read_csv('data/2024.2.19 PENDLEUSDT WETHUSDT.csv')"
   ]
  },
  {
   "cell_type": "code",
   "execution_count": 81,
   "metadata": {},
   "outputs": [
    {
     "data": {
      "text/html": [
       "<div><style>\n",
       ".dataframe > thead > tr,\n",
       ".dataframe > tbody > tr {\n",
       "  text-align: right;\n",
       "  white-space: pre-wrap;\n",
       "}\n",
       "</style>\n",
       "<small>shape: (5, 3)</small><table border=\"1\" class=\"dataframe\"><thead><tr><th>timestamp</th><th>ETHUSDT</th><th>PENDLEUSDT</th></tr><tr><td>datetime[μs]</td><td>f64</td><td>f64</td></tr></thead><tbody><tr><td>2024-02-04 21:36:59</td><td>2308.10375</td><td>3.1367</td></tr><tr><td>2024-02-04 21:36:58</td><td>2308.1</td><td>null</td></tr><tr><td>2024-02-04 21:36:57</td><td>2308.1</td><td>null</td></tr><tr><td>2024-02-04 21:36:56</td><td>2308.11</td><td>null</td></tr><tr><td>2024-02-04 21:36:55</td><td>2308.11</td><td>3.136738</td></tr></tbody></table></div>"
      ],
      "text/plain": [
       "shape: (5, 3)\n",
       "┌─────────────────────┬────────────┬────────────┐\n",
       "│ timestamp           ┆ ETHUSDT    ┆ PENDLEUSDT │\n",
       "│ ---                 ┆ ---        ┆ ---        │\n",
       "│ datetime[μs]        ┆ f64        ┆ f64        │\n",
       "╞═════════════════════╪════════════╪════════════╡\n",
       "│ 2024-02-04 21:36:59 ┆ 2308.10375 ┆ 3.1367     │\n",
       "│ 2024-02-04 21:36:58 ┆ 2308.1     ┆ null       │\n",
       "│ 2024-02-04 21:36:57 ┆ 2308.1     ┆ null       │\n",
       "│ 2024-02-04 21:36:56 ┆ 2308.11    ┆ null       │\n",
       "│ 2024-02-04 21:36:55 ┆ 2308.11    ┆ 3.136738   │\n",
       "└─────────────────────┴────────────┴────────────┘"
      ]
     },
     "execution_count": 81,
     "metadata": {},
     "output_type": "execute_result"
    }
   ],
   "source": [
    "# convert string to timestamp\n",
    "nance = nance.with_columns(\n",
    "    pl.coalesce(\n",
    "        pl.col('timestamp')\n",
    "            # note all times UTC\n",
    "            .str.strptime(pl.Datetime, '%Y-%m-%d %H:%M:%S%.f UTC', strict=False), # strict = False writes to null\n",
    "        # need to coalesce two `strptime` to handle errors where a whole second didn't have a decimal at the end.\n",
    "        pl.col('timestamp')\n",
    "            .str.strptime(pl.Datetime, '%Y-%m-%d %H:%M:%S UTC', strict=False)\n",
    "    )\n",
    ")\n",
    "# truncate timestamp to seconds\n",
    "nance = nance.with_columns(\n",
    "    pl.col(\"timestamp\")\n",
    "    .dt.truncate(\"1s\")\n",
    ")\n",
    "\n",
    "# pivot nance table into columns per token pair\n",
    "nance = nance.pivot(\n",
    "    values='price',\n",
    "    index='timestamp',\n",
    "    columns='symbol',\n",
    "    aggregate_function='mean' \n",
    ")\n",
    "\n",
    "nance.head()"
   ]
  },
  {
   "cell_type": "code",
   "execution_count": 82,
   "metadata": {},
   "outputs": [
    {
     "data": {
      "text/plain": [
       "(1814401, 1)"
      ]
     },
     "execution_count": 82,
     "metadata": {},
     "output_type": "execute_result"
    }
   ],
   "source": [
    "# @Dev TODO is there a way to do this without creating a new dataframe?\n",
    "\n",
    "# create a polars datetime range from min to max\n",
    "dates = pl.datetime_range(\n",
    "            nance.select(pl.min('timestamp')).item(),\n",
    "            nance.select(pl.max('timestamp')).item(),\n",
    "            interval = '1s',\n",
    "            closed = 'both',\n",
    "            # eager evaluate it into a series\n",
    "            eager = True\n",
    "        )   \n",
    "\n",
    "# create a new df with a continuous timeseries\n",
    "# this will be my master df\n",
    "df=pl.DataFrame({'timestamp':dates})\n",
    "df.shape"
   ]
  },
  {
   "cell_type": "code",
   "execution_count": 83,
   "metadata": {},
   "outputs": [],
   "source": [
    "# join nance data into df on timestamp\n",
    "df = df.join(\n",
    "    nance,\n",
    "    left_on='timestamp',\n",
    "    right_on='timestamp',\n",
    "    how = 'left'\n",
    ")"
   ]
  },
  {
   "cell_type": "code",
   "execution_count": 91,
   "metadata": {},
   "outputs": [
    {
     "data": {
      "text/html": [
       "<div><style>\n",
       ".dataframe > thead > tr,\n",
       ".dataframe > tbody > tr {\n",
       "  text-align: right;\n",
       "  white-space: pre-wrap;\n",
       "}\n",
       "</style>\n",
       "<small>shape: (10, 6)</small><table border=\"1\" class=\"dataframe\"><thead><tr><th>timestamp</th><th>ETHUSDT</th><th>PENDLEUSDT</th><th>nance_PENDLE_ETH_px</th><th>DEX_PENDLE_WETH_px</th><th>DEX_PENDLE_WETH_px_right</th></tr><tr><td>datetime[μs]</td><td>f64</td><td>f64</td><td>f64</td><td>f64</td><td>f64</td></tr></thead><tbody><tr><td>2024-01-28 23:59:59</td><td>2256.9</td><td>null</td><td>null</td><td>null</td><td>null</td></tr><tr><td>2024-01-29 00:00:00</td><td>2256.903922</td><td>2.2398</td><td>0.000992</td><td>null</td><td>null</td></tr><tr><td>2024-01-29 00:00:01</td><td>2256.905</td><td>null</td><td>0.000992</td><td>null</td><td>null</td></tr><tr><td>2024-01-29 00:00:02</td><td>2256.900667</td><td>null</td><td>0.000992</td><td>null</td><td>null</td></tr><tr><td>2024-01-29 00:00:03</td><td>2257.187832</td><td>2.240142</td><td>0.000992</td><td>null</td><td>null</td></tr><tr><td>2024-01-29 00:00:04</td><td>2257.78</td><td>2.2412</td><td>0.000993</td><td>null</td><td>null</td></tr><tr><td>2024-01-29 00:00:05</td><td>2257.782</td><td>2.24085</td><td>0.000993</td><td>null</td><td>null</td></tr><tr><td>2024-01-29 00:00:06</td><td>2257.316185</td><td>2.2409</td><td>0.000993</td><td>null</td><td>null</td></tr><tr><td>2024-01-29 00:00:07</td><td>2256.457917</td><td>null</td><td>0.000993</td><td>null</td><td>null</td></tr><tr><td>2024-01-29 00:00:08</td><td>2256.323333</td><td>null</td><td>0.000993</td><td>null</td><td>null</td></tr></tbody></table></div>"
      ],
      "text/plain": [
       "shape: (10, 6)\n",
       "┌──────────────┬─────────────┬────────────┬──────────────────┬──────────────────┬──────────────────┐\n",
       "│ timestamp    ┆ ETHUSDT     ┆ PENDLEUSDT ┆ nance_PENDLE_ETH ┆ DEX_PENDLE_WETH_ ┆ DEX_PENDLE_WETH_ │\n",
       "│ ---          ┆ ---         ┆ ---        ┆ _px              ┆ px               ┆ px_right         │\n",
       "│ datetime[μs] ┆ f64         ┆ f64        ┆ ---              ┆ ---              ┆ ---              │\n",
       "│              ┆             ┆            ┆ f64              ┆ f64              ┆ f64              │\n",
       "╞══════════════╪═════════════╪════════════╪══════════════════╪══════════════════╪══════════════════╡\n",
       "│ 2024-01-28   ┆ 2256.9      ┆ null       ┆ null             ┆ null             ┆ null             │\n",
       "│ 23:59:59     ┆             ┆            ┆                  ┆                  ┆                  │\n",
       "│ 2024-01-29   ┆ 2256.903922 ┆ 2.2398     ┆ 0.000992         ┆ null             ┆ null             │\n",
       "│ 00:00:00     ┆             ┆            ┆                  ┆                  ┆                  │\n",
       "│ 2024-01-29   ┆ 2256.905    ┆ null       ┆ 0.000992         ┆ null             ┆ null             │\n",
       "│ 00:00:01     ┆             ┆            ┆                  ┆                  ┆                  │\n",
       "│ 2024-01-29   ┆ 2256.900667 ┆ null       ┆ 0.000992         ┆ null             ┆ null             │\n",
       "│ 00:00:02     ┆             ┆            ┆                  ┆                  ┆                  │\n",
       "│ 2024-01-29   ┆ 2257.187832 ┆ 2.240142   ┆ 0.000992         ┆ null             ┆ null             │\n",
       "│ 00:00:03     ┆             ┆            ┆                  ┆                  ┆                  │\n",
       "│ 2024-01-29   ┆ 2257.78     ┆ 2.2412     ┆ 0.000993         ┆ null             ┆ null             │\n",
       "│ 00:00:04     ┆             ┆            ┆                  ┆                  ┆                  │\n",
       "│ 2024-01-29   ┆ 2257.782    ┆ 2.24085    ┆ 0.000993         ┆ null             ┆ null             │\n",
       "│ 00:00:05     ┆             ┆            ┆                  ┆                  ┆                  │\n",
       "│ 2024-01-29   ┆ 2257.316185 ┆ 2.2409     ┆ 0.000993         ┆ null             ┆ null             │\n",
       "│ 00:00:06     ┆             ┆            ┆                  ┆                  ┆                  │\n",
       "│ 2024-01-29   ┆ 2256.457917 ┆ null       ┆ 0.000993         ┆ null             ┆ null             │\n",
       "│ 00:00:07     ┆             ┆            ┆                  ┆                  ┆                  │\n",
       "│ 2024-01-29   ┆ 2256.323333 ┆ null       ┆ 0.000993         ┆ null             ┆ null             │\n",
       "│ 00:00:08     ┆             ┆            ┆                  ┆                  ┆                  │\n",
       "└──────────────┴─────────────┴────────────┴──────────────────┴──────────────────┴──────────────────┘"
      ]
     },
     "execution_count": 91,
     "metadata": {},
     "output_type": "execute_result"
    }
   ],
   "source": [
    "# generate new column for PENDLE-WETH price\n",
    "df = df.with_columns(\n",
    "    (df['PENDLEUSDT'] / df['ETHUSDT'])\n",
    "     .alias(\"nance_PENDLE_ETH_px\")\n",
    ").sort('timestamp') # wanted to explicitly sort before filling forward.\n",
    "\n",
    "df = df.with_columns(pl.col('nance_PENDLE_ETH_px').fill_null(strategy=\"forward\"))\n",
    "\n",
    "df.head(10)"
   ]
  },
  {
   "cell_type": "markdown",
   "metadata": {},
   "source": [
    "### Load DEX data and join\n",
    "\n",
    "Now that my CEX data is set, I'm going to clean my DEX data and merge in. I'm using Dune data.\n",
    "\n",
    "@DEV TODO: truncate nance data to minute."
   ]
  },
  {
   "cell_type": "code",
   "execution_count": 85,
   "metadata": {},
   "outputs": [
    {
     "data": {
      "text/html": [
       "<div><style>\n",
       ".dataframe > thead > tr,\n",
       ".dataframe > tbody > tr {\n",
       "  text-align: right;\n",
       "  white-space: pre-wrap;\n",
       "}\n",
       "</style>\n",
       "<small>shape: (20, 8)</small><table border=\"1\" class=\"dataframe\"><thead><tr><th>timestamp</th><th>token_bought_amount</th><th>token_bought_symbol</th><th>token_sold_amount</th><th>token_sold_symbol</th><th>tx_hash</th><th>pool</th><th>DEX_PENDLE_WETH_px</th></tr><tr><td>datetime[μs]</td><td>f64</td><td>str</td><td>f64</td><td>str</td><td>str</td><td>str</td><td>f64</td></tr></thead><tbody><tr><td>2024-01-28 00:00:07</td><td>0.708812</td><td>&quot;PENDLE&quot;</td><td>0.000721</td><td>&quot;WETH&quot;</td><td>&quot;0xb3eab8104f8e…</td><td>&quot;ARB_30bps&quot;</td><td>0.001017</td></tr><tr><td>2024-01-28 00:00:48</td><td>0.007369</td><td>&quot;WETH&quot;</td><td>7.288209</td><td>&quot;PENDLE&quot;</td><td>&quot;0x5fd688b5d5f7…</td><td>&quot;ARB_30bps&quot;</td><td>0.001011</td></tr><tr><td>2024-01-28 00:01:10</td><td>703.661834</td><td>&quot;PENDLE&quot;</td><td>0.715776</td><td>&quot;WETH&quot;</td><td>&quot;0x6cae821e67ae…</td><td>&quot;ARB_30bps&quot;</td><td>0.001017</td></tr><tr><td>2024-01-28 00:01:14</td><td>391.976954</td><td>&quot;PENDLE&quot;</td><td>0.398779</td><td>&quot;WETH&quot;</td><td>&quot;0x8283c105dc6b…</td><td>&quot;ARB_30bps&quot;</td><td>0.001017</td></tr><tr><td>2024-01-28 00:01:16</td><td>268.19037</td><td>&quot;PENDLE&quot;</td><td>0.272867</td><td>&quot;WETH&quot;</td><td>&quot;0x5ab4f537275c…</td><td>&quot;ARB_30bps&quot;</td><td>0.001017</td></tr><tr><td>2024-01-28 00:01:21</td><td>552.964229</td><td>&quot;PENDLE&quot;</td><td>0.562717</td><td>&quot;WETH&quot;</td><td>&quot;0xdfff2eca7e8d…</td><td>&quot;ARB_30bps&quot;</td><td>0.001018</td></tr><tr><td>2024-01-28 00:01:21</td><td>392.124017</td><td>&quot;PENDLE&quot;</td><td>0.398994</td><td>&quot;WETH&quot;</td><td>&quot;0xf71eb6fc0dac…</td><td>&quot;ARB_30bps&quot;</td><td>0.001018</td></tr><tr><td>2024-01-28 00:01:22</td><td>391.996403</td><td>&quot;PENDLE&quot;</td><td>0.398957</td><td>&quot;WETH&quot;</td><td>&quot;0x2964eba66bb6…</td><td>&quot;ARB_30bps&quot;</td><td>0.001018</td></tr><tr><td>2024-01-28 00:01:23</td><td>499.000054</td><td>&quot;PENDLE&quot;</td><td>0.507917</td><td>&quot;WETH&quot;</td><td>&quot;0x4bd672f7a7f2…</td><td>&quot;ARB_30bps&quot;</td><td>0.001018</td></tr><tr><td>2024-01-28 00:01:40</td><td>552.710783</td><td>&quot;PENDLE&quot;</td><td>0.56266</td><td>&quot;WETH&quot;</td><td>&quot;0x3401d8010009…</td><td>&quot;ARB_30bps&quot;</td><td>0.001018</td></tr><tr><td>2024-01-28 00:01:46</td><td>391.88127</td><td>&quot;PENDLE&quot;</td><td>0.398982</td><td>&quot;WETH&quot;</td><td>&quot;0xa7e4125dfc14…</td><td>&quot;ARB_30bps&quot;</td><td>0.001018</td></tr><tr><td>2024-01-28 00:01:49</td><td>391.84541</td><td>&quot;PENDLE&quot;</td><td>0.398984</td><td>&quot;WETH&quot;</td><td>&quot;0xd55aed2b49f5…</td><td>&quot;ARB_30bps&quot;</td><td>0.001018</td></tr><tr><td>2024-01-28 00:01:50</td><td>326.386874</td><td>&quot;PENDLE&quot;</td><td>0.332363</td><td>&quot;WETH&quot;</td><td>&quot;0x53004600b6c6…</td><td>&quot;ARB_30bps&quot;</td><td>0.001018</td></tr><tr><td>2024-01-28 00:02:00</td><td>424.36558</td><td>&quot;PENDLE&quot;</td><td>0.432175</td><td>&quot;WETH&quot;</td><td>&quot;0x77a92796d588…</td><td>&quot;ARB_30bps&quot;</td><td>0.001018</td></tr><tr><td>2024-01-28 00:02:01</td><td>761.848485</td><td>&quot;PENDLE&quot;</td><td>0.775983</td><td>&quot;WETH&quot;</td><td>&quot;0x61a15ca06d5b…</td><td>&quot;ARB_30bps&quot;</td><td>0.001019</td></tr><tr><td>2024-01-28 00:02:06</td><td>391.771749</td><td>&quot;PENDLE&quot;</td><td>0.399097</td><td>&quot;WETH&quot;</td><td>&quot;0xc77fe33b9f20…</td><td>&quot;ARB_30bps&quot;</td><td>0.001019</td></tr><tr><td>2024-01-28 00:02:10</td><td>391.712107</td><td>&quot;PENDLE&quot;</td><td>0.399075</td><td>&quot;WETH&quot;</td><td>&quot;0x9538fc687070…</td><td>&quot;ARB_30bps&quot;</td><td>0.001019</td></tr><tr><td>2024-01-28 00:02:14</td><td>743.14798</td><td>&quot;PENDLE&quot;</td><td>0.757223</td><td>&quot;WETH&quot;</td><td>&quot;0x0cf934c42c1b…</td><td>&quot;ARB_30bps&quot;</td><td>0.001019</td></tr><tr><td>2024-01-28 00:02:15</td><td>552.377622</td><td>&quot;PENDLE&quot;</td><td>0.56293</td><td>&quot;WETH&quot;</td><td>&quot;0xbd0f5080d73e…</td><td>&quot;ARB_30bps&quot;</td><td>0.001019</td></tr><tr><td>2024-01-28 00:02:27</td><td>761.078852</td><td>&quot;PENDLE&quot;</td><td>0.775744</td><td>&quot;WETH&quot;</td><td>&quot;0x42966a848b81…</td><td>&quot;ARB_30bps&quot;</td><td>0.001019</td></tr></tbody></table></div>"
      ],
      "text/plain": [
       "shape: (20, 8)\n",
       "┌────────────┬────────────┬────────────┬───────────┬───────────┬───────────┬───────────┬───────────┐\n",
       "│ timestamp  ┆ token_boug ┆ token_boug ┆ token_sol ┆ token_sol ┆ tx_hash   ┆ pool      ┆ DEX_PENDL │\n",
       "│ ---        ┆ ht_amount  ┆ ht_symbol  ┆ d_amount  ┆ d_symbol  ┆ ---       ┆ ---       ┆ E_WETH_px │\n",
       "│ datetime[μ ┆ ---        ┆ ---        ┆ ---       ┆ ---       ┆ str       ┆ str       ┆ ---       │\n",
       "│ s]         ┆ f64        ┆ str        ┆ f64       ┆ str       ┆           ┆           ┆ f64       │\n",
       "╞════════════╪════════════╪════════════╪═══════════╪═══════════╪═══════════╪═══════════╪═══════════╡\n",
       "│ 2024-01-28 ┆ 0.708812   ┆ PENDLE     ┆ 0.000721  ┆ WETH      ┆ 0xb3eab81 ┆ ARB_30bps ┆ 0.001017  │\n",
       "│ 00:00:07   ┆            ┆            ┆           ┆           ┆ 04f8ee3c3 ┆           ┆           │\n",
       "│            ┆            ┆            ┆           ┆           ┆ 39fa2b69d ┆           ┆           │\n",
       "│            ┆            ┆            ┆           ┆           ┆ 03d0c…    ┆           ┆           │\n",
       "│ 2024-01-28 ┆ 0.007369   ┆ WETH       ┆ 7.288209  ┆ PENDLE    ┆ 0x5fd688b ┆ ARB_30bps ┆ 0.001011  │\n",
       "│ 00:00:48   ┆            ┆            ┆           ┆           ┆ 5d5f7e993 ┆           ┆           │\n",
       "│            ┆            ┆            ┆           ┆           ┆ a3bd43499 ┆           ┆           │\n",
       "│            ┆            ┆            ┆           ┆           ┆ 2df5c…    ┆           ┆           │\n",
       "│ 2024-01-28 ┆ 703.661834 ┆ PENDLE     ┆ 0.715776  ┆ WETH      ┆ 0x6cae821 ┆ ARB_30bps ┆ 0.001017  │\n",
       "│ 00:01:10   ┆            ┆            ┆           ┆           ┆ e67aea841 ┆           ┆           │\n",
       "│            ┆            ┆            ┆           ┆           ┆ 532388e44 ┆           ┆           │\n",
       "│            ┆            ┆            ┆           ┆           ┆ 8c655…    ┆           ┆           │\n",
       "│ 2024-01-28 ┆ 391.976954 ┆ PENDLE     ┆ 0.398779  ┆ WETH      ┆ 0x8283c10 ┆ ARB_30bps ┆ 0.001017  │\n",
       "│ 00:01:14   ┆            ┆            ┆           ┆           ┆ 5dc6b93a9 ┆           ┆           │\n",
       "│            ┆            ┆            ┆           ┆           ┆ 2645bb204 ┆           ┆           │\n",
       "│            ┆            ┆            ┆           ┆           ┆ 6ef04…    ┆           ┆           │\n",
       "│ 2024-01-28 ┆ 268.19037  ┆ PENDLE     ┆ 0.272867  ┆ WETH      ┆ 0x5ab4f53 ┆ ARB_30bps ┆ 0.001017  │\n",
       "│ 00:01:16   ┆            ┆            ┆           ┆           ┆ 7275cd352 ┆           ┆           │\n",
       "│            ┆            ┆            ┆           ┆           ┆ b9aa3f027 ┆           ┆           │\n",
       "│            ┆            ┆            ┆           ┆           ┆ 261b4…    ┆           ┆           │\n",
       "│ …          ┆ …          ┆ …          ┆ …         ┆ …         ┆ …         ┆ …         ┆ …         │\n",
       "│ 2024-01-28 ┆ 391.771749 ┆ PENDLE     ┆ 0.399097  ┆ WETH      ┆ 0xc77fe33 ┆ ARB_30bps ┆ 0.001019  │\n",
       "│ 00:02:06   ┆            ┆            ┆           ┆           ┆ b9f20cc3e ┆           ┆           │\n",
       "│            ┆            ┆            ┆           ┆           ┆ 67105fd50 ┆           ┆           │\n",
       "│            ┆            ┆            ┆           ┆           ┆ 12c43…    ┆           ┆           │\n",
       "│ 2024-01-28 ┆ 391.712107 ┆ PENDLE     ┆ 0.399075  ┆ WETH      ┆ 0x9538fc6 ┆ ARB_30bps ┆ 0.001019  │\n",
       "│ 00:02:10   ┆            ┆            ┆           ┆           ┆ 87070f5c1 ┆           ┆           │\n",
       "│            ┆            ┆            ┆           ┆           ┆ c112c71d5 ┆           ┆           │\n",
       "│            ┆            ┆            ┆           ┆           ┆ 5520b…    ┆           ┆           │\n",
       "│ 2024-01-28 ┆ 743.14798  ┆ PENDLE     ┆ 0.757223  ┆ WETH      ┆ 0x0cf934c ┆ ARB_30bps ┆ 0.001019  │\n",
       "│ 00:02:14   ┆            ┆            ┆           ┆           ┆ 42c1b6ca8 ┆           ┆           │\n",
       "│            ┆            ┆            ┆           ┆           ┆ e2bf8b962 ┆           ┆           │\n",
       "│            ┆            ┆            ┆           ┆           ┆ c50cf…    ┆           ┆           │\n",
       "│ 2024-01-28 ┆ 552.377622 ┆ PENDLE     ┆ 0.56293   ┆ WETH      ┆ 0xbd0f508 ┆ ARB_30bps ┆ 0.001019  │\n",
       "│ 00:02:15   ┆            ┆            ┆           ┆           ┆ 0d73e72cf ┆           ┆           │\n",
       "│            ┆            ┆            ┆           ┆           ┆ 0d652c029 ┆           ┆           │\n",
       "│            ┆            ┆            ┆           ┆           ┆ e606d…    ┆           ┆           │\n",
       "│ 2024-01-28 ┆ 761.078852 ┆ PENDLE     ┆ 0.775744  ┆ WETH      ┆ 0x42966a8 ┆ ARB_30bps ┆ 0.001019  │\n",
       "│ 00:02:27   ┆            ┆            ┆           ┆           ┆ 48b810a71 ┆           ┆           │\n",
       "│            ┆            ┆            ┆           ┆           ┆ f379a9ae2 ┆           ┆           │\n",
       "│            ┆            ┆            ┆           ┆           ┆ ec726…    ┆           ┆           │\n",
       "└────────────┴────────────┴────────────┴───────────┴───────────┴───────────┴───────────┴───────────┘"
      ]
     },
     "execution_count": 85,
     "metadata": {},
     "output_type": "execute_result"
    }
   ],
   "source": [
    "# print(f'Min time is {df.select(pl.min('timestamp')).item()} and max time is {df.select(pl.max('timestamp')).item()}.')\n",
    "\n",
    "dex = pl.read_csv('data/2024.2.19 DEX PENDLEWETH.csv')\n",
    "\n",
    "# sample timestamp: 2024-02-09 01:44:28.000 UTC\n",
    "\n",
    "dex = dex.with_columns(\n",
    "        pl.col('block_time')\n",
    "            # cast as timestamp\n",
    "            .str.to_datetime(\n",
    "                '%Y-%m-%d %H:%M:%S%.f UTC',\n",
    "                time_unit='us',\n",
    "                strict=True)\n",
    "            # truncate to second\n",
    "            .dt.truncate(\"1s\")\n",
    "            # rewrite in place?\n",
    "            .alias('block_time')\n",
    "    )\n",
    "\n",
    "# surely there is a way to rename within the above function?\n",
    "dex = dex.rename({'block_time':'timestamp'}).sort('timestamp')\n",
    "\n",
    "dex = dex.with_columns(\n",
    "    # when the trade is buying WETH, the PENDLEWETH price is ratio of bought/sold\n",
    "    pl.when(\n",
    "        pl.col('token_bought_symbol').eq('WETH')\n",
    "    )\n",
    "    .then(\n",
    "        (dex['token_bought_amount']/dex['token_sold_amount'])\n",
    "    )\n",
    "    # when the trade is buying PENDLE, the PENDLEWETH price is ratio of sold/bought\n",
    "    .when(\n",
    "        pl.col('token_bought_symbol').eq('PENDLE')\n",
    "    )\n",
    "    .then(\n",
    "        (dex['token_sold_amount']/dex['token_bought_amount'])\n",
    "    )\n",
    "    .alias('DEX_PENDLE_WETH_px')\n",
    ")\n",
    "\n",
    "dex.head(20)"
   ]
  },
  {
   "cell_type": "code",
   "execution_count": 89,
   "metadata": {},
   "outputs": [
    {
     "ename": "DuplicateError",
     "evalue": "unable to hstack, column with name \"DEX_PENDLE_WETH_px_right\" already exists",
     "output_type": "error",
     "traceback": [
      "\u001b[0;31m---------------------------------------------------------------------------\u001b[0m",
      "\u001b[0;31mDuplicateError\u001b[0m                            Traceback (most recent call last)",
      "Cell \u001b[0;32mIn[89], line 1\u001b[0m\n\u001b[0;32m----> 1\u001b[0m df \u001b[38;5;241m=\u001b[39m \u001b[43mdf\u001b[49m\u001b[38;5;241;43m.\u001b[39;49m\u001b[43mjoin\u001b[49m\u001b[43m(\u001b[49m\n\u001b[1;32m      2\u001b[0m \u001b[43m    \u001b[49m\u001b[43mdex\u001b[49m\u001b[38;5;241;43m.\u001b[39;49m\u001b[43mselect\u001b[49m\u001b[43m(\u001b[49m\n\u001b[1;32m      3\u001b[0m \u001b[43m        \u001b[49m\u001b[43m[\u001b[49m\u001b[38;5;124;43m'\u001b[39;49m\u001b[38;5;124;43mtimestamp\u001b[39;49m\u001b[38;5;124;43m'\u001b[39;49m\u001b[43m,\u001b[49m\u001b[43m \u001b[49m\u001b[38;5;124;43m'\u001b[39;49m\u001b[38;5;124;43mDEX_PENDLE_WETH_px\u001b[39;49m\u001b[38;5;124;43m'\u001b[39;49m\u001b[43m]\u001b[49m\n\u001b[1;32m      4\u001b[0m \u001b[43m    \u001b[49m\u001b[43m)\u001b[49m\u001b[43m,\u001b[49m\n\u001b[1;32m      5\u001b[0m \u001b[43m    \u001b[49m\u001b[43mon\u001b[49m\u001b[43m \u001b[49m\u001b[38;5;241;43m=\u001b[39;49m\u001b[43m \u001b[49m\u001b[38;5;124;43m'\u001b[39;49m\u001b[38;5;124;43mtimestamp\u001b[39;49m\u001b[38;5;124;43m'\u001b[39;49m\u001b[43m,\u001b[49m\n\u001b[1;32m      6\u001b[0m \u001b[43m    \u001b[49m\u001b[43mhow\u001b[49m\u001b[43m \u001b[49m\u001b[38;5;241;43m=\u001b[39;49m\u001b[43m \u001b[49m\u001b[38;5;124;43m'\u001b[39;49m\u001b[38;5;124;43mleft\u001b[39;49m\u001b[38;5;124;43m'\u001b[39;49m\n\u001b[1;32m      7\u001b[0m \u001b[43m)\u001b[49m\n\u001b[1;32m      8\u001b[0m df\u001b[38;5;241m.\u001b[39mhead(\u001b[38;5;241m10\u001b[39m)\n",
      "File \u001b[0;32m/Library/Frameworks/Python.framework/Versions/3.12/lib/python3.12/site-packages/polars/dataframe/frame.py:6423\u001b[0m, in \u001b[0;36mDataFrame.join\u001b[0;34m(self, other, on, how, left_on, right_on, suffix, validate, join_nulls)\u001b[0m\n\u001b[1;32m   6408\u001b[0m     msg \u001b[38;5;241m=\u001b[39m \u001b[38;5;124mf\u001b[39m\u001b[38;5;124m\"\u001b[39m\u001b[38;5;124mexpected `other` join table to be a DataFrame, got \u001b[39m\u001b[38;5;132;01m{\u001b[39;00m\u001b[38;5;28mtype\u001b[39m(other)\u001b[38;5;241m.\u001b[39m\u001b[38;5;18m__name__\u001b[39m\u001b[38;5;132;01m!r}\u001b[39;00m\u001b[38;5;124m\"\u001b[39m\n\u001b[1;32m   6409\u001b[0m     \u001b[38;5;28;01mraise\u001b[39;00m \u001b[38;5;167;01mTypeError\u001b[39;00m(msg)\n\u001b[1;32m   6411\u001b[0m \u001b[38;5;28;01mreturn\u001b[39;00m (\n\u001b[1;32m   6412\u001b[0m     \u001b[38;5;28;43mself\u001b[39;49m\u001b[38;5;241;43m.\u001b[39;49m\u001b[43mlazy\u001b[49m\u001b[43m(\u001b[49m\u001b[43m)\u001b[49m\n\u001b[1;32m   6413\u001b[0m \u001b[43m    \u001b[49m\u001b[38;5;241;43m.\u001b[39;49m\u001b[43mjoin\u001b[49m\u001b[43m(\u001b[49m\n\u001b[1;32m   6414\u001b[0m \u001b[43m        \u001b[49m\u001b[43mother\u001b[49m\u001b[38;5;241;43m=\u001b[39;49m\u001b[43mother\u001b[49m\u001b[38;5;241;43m.\u001b[39;49m\u001b[43mlazy\u001b[49m\u001b[43m(\u001b[49m\u001b[43m)\u001b[49m\u001b[43m,\u001b[49m\n\u001b[1;32m   6415\u001b[0m \u001b[43m        \u001b[49m\u001b[43mleft_on\u001b[49m\u001b[38;5;241;43m=\u001b[39;49m\u001b[43mleft_on\u001b[49m\u001b[43m,\u001b[49m\n\u001b[1;32m   6416\u001b[0m \u001b[43m        \u001b[49m\u001b[43mright_on\u001b[49m\u001b[38;5;241;43m=\u001b[39;49m\u001b[43mright_on\u001b[49m\u001b[43m,\u001b[49m\n\u001b[1;32m   6417\u001b[0m \u001b[43m        \u001b[49m\u001b[43mon\u001b[49m\u001b[38;5;241;43m=\u001b[39;49m\u001b[43mon\u001b[49m\u001b[43m,\u001b[49m\n\u001b[1;32m   6418\u001b[0m \u001b[43m        \u001b[49m\u001b[43mhow\u001b[49m\u001b[38;5;241;43m=\u001b[39;49m\u001b[43mhow\u001b[49m\u001b[43m,\u001b[49m\n\u001b[1;32m   6419\u001b[0m \u001b[43m        \u001b[49m\u001b[43msuffix\u001b[49m\u001b[38;5;241;43m=\u001b[39;49m\u001b[43msuffix\u001b[49m\u001b[43m,\u001b[49m\n\u001b[1;32m   6420\u001b[0m \u001b[43m        \u001b[49m\u001b[43mvalidate\u001b[49m\u001b[38;5;241;43m=\u001b[39;49m\u001b[43mvalidate\u001b[49m\u001b[43m,\u001b[49m\n\u001b[1;32m   6421\u001b[0m \u001b[43m        \u001b[49m\u001b[43mjoin_nulls\u001b[49m\u001b[38;5;241;43m=\u001b[39;49m\u001b[43mjoin_nulls\u001b[49m\u001b[43m,\u001b[49m\n\u001b[1;32m   6422\u001b[0m \u001b[43m    \u001b[49m\u001b[43m)\u001b[49m\n\u001b[0;32m-> 6423\u001b[0m \u001b[43m    \u001b[49m\u001b[38;5;241;43m.\u001b[39;49m\u001b[43mcollect\u001b[49m\u001b[43m(\u001b[49m\u001b[43m_eager\u001b[49m\u001b[38;5;241;43m=\u001b[39;49m\u001b[38;5;28;43;01mTrue\u001b[39;49;00m\u001b[43m)\u001b[49m\n\u001b[1;32m   6424\u001b[0m )\n",
      "File \u001b[0;32m/Library/Frameworks/Python.framework/Versions/3.12/lib/python3.12/site-packages/polars/lazyframe/frame.py:1940\u001b[0m, in \u001b[0;36mLazyFrame.collect\u001b[0;34m(self, type_coercion, predicate_pushdown, projection_pushdown, simplify_expression, slice_pushdown, comm_subplan_elim, comm_subexpr_elim, no_optimization, streaming, background, _eager)\u001b[0m\n\u001b[1;32m   1937\u001b[0m \u001b[38;5;28;01mif\u001b[39;00m background:\n\u001b[1;32m   1938\u001b[0m     \u001b[38;5;28;01mreturn\u001b[39;00m InProcessQuery(ldf\u001b[38;5;241m.\u001b[39mcollect_concurrently())\n\u001b[0;32m-> 1940\u001b[0m \u001b[38;5;28;01mreturn\u001b[39;00m wrap_df(\u001b[43mldf\u001b[49m\u001b[38;5;241;43m.\u001b[39;49m\u001b[43mcollect\u001b[49m\u001b[43m(\u001b[49m\u001b[43m)\u001b[49m)\n",
      "\u001b[0;31mDuplicateError\u001b[0m: unable to hstack, column with name \"DEX_PENDLE_WETH_px_right\" already exists"
     ]
    }
   ],
   "source": [
    "df = df.join(\n",
    "    dex.select(\n",
    "        ['timestamp', 'DEX_PENDLE_WETH_px']\n",
    "    ),\n",
    "    on = 'timestamp',\n",
    "    how = 'left'\n",
    ")\n"
   ]
  },
  {
   "cell_type": "code",
   "execution_count": 92,
   "metadata": {},
   "outputs": [
    {
     "name": "stdout",
     "output_type": "stream",
     "text": [
      "Timestamp is shape: (1, 1)\n",
      "┌─────────────────────┐\n",
      "│ timestamp           │\n",
      "│ ---                 │\n",
      "│ datetime[μs]        │\n",
      "╞═════════════════════╡\n",
      "│ 2024-01-29 00:00:46 │\n",
      "└─────────────────────┘.\n"
     ]
    },
    {
     "data": {
      "text/html": [
       "<div><style>\n",
       ".dataframe > thead > tr,\n",
       ".dataframe > tbody > tr {\n",
       "  text-align: right;\n",
       "  white-space: pre-wrap;\n",
       "}\n",
       "</style>\n",
       "<small>shape: (10, 6)</small><table border=\"1\" class=\"dataframe\"><thead><tr><th>timestamp</th><th>ETHUSDT</th><th>PENDLEUSDT</th><th>nance_PENDLE_ETH_px</th><th>DEX_PENDLE_WETH_px</th><th>DEX_PENDLE_WETH_px_right</th></tr><tr><td>datetime[μs]</td><td>f64</td><td>f64</td><td>f64</td><td>f64</td><td>f64</td></tr></thead><tbody><tr><td>2024-01-29 00:00:45</td><td>2254.1625</td><td>null</td><td>0.000993</td><td>null</td><td>null</td></tr><tr><td>2024-01-29 00:00:46</td><td>2254.16</td><td>null</td><td>0.000993</td><td>0.000998</td><td>0.000998</td></tr><tr><td>2024-01-29 00:00:47</td><td>2254.1675</td><td>null</td><td>0.000993</td><td>null</td><td>null</td></tr><tr><td>2024-01-29 00:00:48</td><td>2254.16</td><td>null</td><td>0.000993</td><td>0.000992</td><td>0.000992</td></tr><tr><td>2024-01-29 00:00:49</td><td>2254.156786</td><td>null</td><td>0.000993</td><td>null</td><td>null</td></tr><tr><td>2024-01-29 00:00:50</td><td>2254.0825</td><td>null</td><td>0.000993</td><td>null</td><td>null</td></tr><tr><td>2024-01-29 00:00:51</td><td>2254.08</td><td>null</td><td>0.000993</td><td>null</td><td>null</td></tr><tr><td>2024-01-29 00:00:52</td><td>2254.00575</td><td>2.235962</td><td>0.000992</td><td>null</td><td>null</td></tr><tr><td>2024-01-29 00:00:53</td><td>2254.108147</td><td>2.2359125</td><td>0.000992</td><td>null</td><td>null</td></tr><tr><td>2024-01-29 00:00:54</td><td>2254.597778</td><td>null</td><td>0.000992</td><td>null</td><td>null</td></tr></tbody></table></div>"
      ],
      "text/plain": [
       "shape: (10, 6)\n",
       "┌──────────────┬─────────────┬────────────┬──────────────────┬──────────────────┬──────────────────┐\n",
       "│ timestamp    ┆ ETHUSDT     ┆ PENDLEUSDT ┆ nance_PENDLE_ETH ┆ DEX_PENDLE_WETH_ ┆ DEX_PENDLE_WETH_ │\n",
       "│ ---          ┆ ---         ┆ ---        ┆ _px              ┆ px               ┆ px_right         │\n",
       "│ datetime[μs] ┆ f64         ┆ f64        ┆ ---              ┆ ---              ┆ ---              │\n",
       "│              ┆             ┆            ┆ f64              ┆ f64              ┆ f64              │\n",
       "╞══════════════╪═════════════╪════════════╪══════════════════╪══════════════════╪══════════════════╡\n",
       "│ 2024-01-29   ┆ 2254.1625   ┆ null       ┆ 0.000993         ┆ null             ┆ null             │\n",
       "│ 00:00:45     ┆             ┆            ┆                  ┆                  ┆                  │\n",
       "│ 2024-01-29   ┆ 2254.16     ┆ null       ┆ 0.000993         ┆ 0.000998         ┆ 0.000998         │\n",
       "│ 00:00:46     ┆             ┆            ┆                  ┆                  ┆                  │\n",
       "│ 2024-01-29   ┆ 2254.1675   ┆ null       ┆ 0.000993         ┆ null             ┆ null             │\n",
       "│ 00:00:47     ┆             ┆            ┆                  ┆                  ┆                  │\n",
       "│ 2024-01-29   ┆ 2254.16     ┆ null       ┆ 0.000993         ┆ 0.000992         ┆ 0.000992         │\n",
       "│ 00:00:48     ┆             ┆            ┆                  ┆                  ┆                  │\n",
       "│ 2024-01-29   ┆ 2254.156786 ┆ null       ┆ 0.000993         ┆ null             ┆ null             │\n",
       "│ 00:00:49     ┆             ┆            ┆                  ┆                  ┆                  │\n",
       "│ 2024-01-29   ┆ 2254.0825   ┆ null       ┆ 0.000993         ┆ null             ┆ null             │\n",
       "│ 00:00:50     ┆             ┆            ┆                  ┆                  ┆                  │\n",
       "│ 2024-01-29   ┆ 2254.08     ┆ null       ┆ 0.000993         ┆ null             ┆ null             │\n",
       "│ 00:00:51     ┆             ┆            ┆                  ┆                  ┆                  │\n",
       "│ 2024-01-29   ┆ 2254.00575  ┆ 2.235962   ┆ 0.000992         ┆ null             ┆ null             │\n",
       "│ 00:00:52     ┆             ┆            ┆                  ┆                  ┆                  │\n",
       "│ 2024-01-29   ┆ 2254.108147 ┆ 2.2359125  ┆ 0.000992         ┆ null             ┆ null             │\n",
       "│ 00:00:53     ┆             ┆            ┆                  ┆                  ┆                  │\n",
       "│ 2024-01-29   ┆ 2254.597778 ┆ null       ┆ 0.000992         ┆ null             ┆ null             │\n",
       "│ 00:00:54     ┆             ┆            ┆                  ┆                  ┆                  │\n",
       "└──────────────┴─────────────┴────────────┴──────────────────┴──────────────────┴──────────────────┘"
      ]
     },
     "execution_count": 92,
     "metadata": {},
     "output_type": "execute_result"
    }
   ],
   "source": [
    "print(f'Timestamp is {\n",
    "    df.filter(pl.col('DEX_PENDLE_WETH_px').is_not_null()).select('timestamp')[0]\n",
    "}.')\n",
    "\n",
    "df = df[47:]\n",
    "\n",
    "df.head(10)"
   ]
  },
  {
   "cell_type": "markdown",
   "metadata": {},
   "source": [
    "### Things to clean up/improve:\n",
    "1. Keep UTC timestamps in both datasets\n",
    "2. Impute VWAP for prices."
   ]
  }
 ],
 "metadata": {
  "kernelspec": {
   "display_name": "Python 3",
   "language": "python",
   "name": "python3"
  },
  "language_info": {
   "codemirror_mode": {
    "name": "ipython",
    "version": 3
   },
   "file_extension": ".py",
   "mimetype": "text/x-python",
   "name": "python",
   "nbconvert_exporter": "python",
   "pygments_lexer": "ipython3",
   "version": "3.12.0"
  }
 },
 "nbformat": 4,
 "nbformat_minor": 2
}
